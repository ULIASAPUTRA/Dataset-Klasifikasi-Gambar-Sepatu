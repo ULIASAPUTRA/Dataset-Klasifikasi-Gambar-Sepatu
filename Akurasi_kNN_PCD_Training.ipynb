{
  "cells": [
    {
      "cell_type": "code",
      "execution_count": 1,
      "metadata": {
        "id": "ww_ykBBvv4p5"
      },
      "outputs": [],
      "source": [
        "# Import module yang akan digunakan\n",
        "import pandas as pd  \n",
        "from sklearn.neighbors import KNeighborsClassifier\n",
        "from sklearn import metrics\n",
        "from sklearn.model_selection import train_test_split\n",
        "from sklearn.metrics import f1_score, precision_score, recall_score \n",
        "from sklearn.metrics import confusion_matrix\n",
        "import seaborn as sns\n",
        "from warnings import simplefilter\n",
        "# ignore all future warnings\n",
        "simplefilter(action='ignore', category=FutureWarning)"
      ]
    },
    {
      "cell_type": "code",
      "execution_count": 2,
      "metadata": {
        "id": "Phaq5jHywFnQ"
      },
      "outputs": [],
      "source": [
        "# Load dataset\n",
        "dataset = pd.read_csv('dataset/gabungan.csv')"
      ]
    },
    {
      "cell_type": "code",
      "execution_count": 3,
      "metadata": {
        "id": "UICdEv_awf4Y"
      },
      "outputs": [],
      "source": [
        "# Membagi data training dan testing\n",
        "X = dataset.drop('kelas', axis=1)  \n",
        "Y = dataset['kelas']\n",
        "X_train, X_test, Y_train, Y_test = train_test_split(X, Y, test_size = 0.20)"
      ]
    },
    {
      "cell_type": "code",
      "execution_count": 4,
      "metadata": {
        "id": "-OgXgvVXwGB1"
      },
      "outputs": [],
      "source": [
        "# Inisiasi jumlah k pada kNN\n",
        "knn3 = KNeighborsClassifier(n_neighbors=3)\n",
        "knn5 = KNeighborsClassifier(n_neighbors=5)\n",
        "knn7 = KNeighborsClassifier(n_neighbors=7)"
      ]
    },
    {
      "attachments": {},
      "cell_type": "markdown",
      "metadata": {},
      "source": []
    },
    {
      "cell_type": "code",
      "execution_count": 5,
      "metadata": {
        "id": "HBmmRTqiwY95"
      },
      "outputs": [],
      "source": [
        "# Train model menggunakan data training\n",
        "knn3.fit(X_train, Y_train)\n",
        "\n",
        "# Melakukan prediksi / klasifikasi\n",
        "Y_pred = knn3.predict(X_test)"
      ]
    },
    {
      "cell_type": "code",
      "execution_count": 6,
      "metadata": {
        "id": "fCbDUly6w3JC"
      },
      "outputs": [],
      "source": [
        "# Train model menggunakan data training\n",
        "knn5.fit(X_train, y=Y_train)\n",
        "\n",
        "# Melakukan prediksi / klasifikasi\n",
        "Y_pred = knn5.predict(X_test)"
      ]
    },
    {
      "cell_type": "code",
      "execution_count": 7,
      "metadata": {
        "id": "DJohH4RexLrz"
      },
      "outputs": [],
      "source": [
        "# Train model menggunakan data training\n",
        "knn7.fit(X_train, Y_train)\n",
        "\n",
        "# Melakukan prediksi / klasifikasi\n",
        "Y_pred = knn7.predict(X_test)"
      ]
    },
    {
      "cell_type": "code",
      "execution_count": 8,
      "metadata": {
        "colab": {
          "base_uri": "https://localhost:8080/"
        },
        "id": "7ty3C0AoeRUV",
        "outputId": "27817885-6dae-4e84-b4ed-7bd563702077"
      },
      "outputs": [
        {
          "data": {
            "text/plain": [
              "50       nike\n",
              "405    adidas\n",
              "318    adidas\n",
              "367    adidas\n",
              "352    adidas\n",
              "        ...  \n",
              "447    adidas\n",
              "137      nike\n",
              "280    adidas\n",
              "172      nike\n",
              "242    adidas\n",
              "Name: kelas, Length: 92, dtype: object"
            ]
          },
          "execution_count": 8,
          "metadata": {},
          "output_type": "execute_result"
        }
      ],
      "source": [
        "Y_test"
      ]
    },
    {
      "cell_type": "code",
      "execution_count": 9,
      "metadata": {
        "colab": {
          "base_uri": "https://localhost:8080/"
        },
        "id": "Sokw1SsgeSoO",
        "outputId": "4fb433db-53ae-4349-89cb-aae3a54585ee"
      },
      "outputs": [
        {
          "data": {
            "text/plain": [
              "array(['nike', 'adidas', 'adidas', 'nike', 'adidas', 'nike', 'nike',\n",
              "       'adidas', 'nike', 'adidas', 'nike', 'nike', 'adidas', 'adidas',\n",
              "       'nike', 'adidas', 'nike', 'adidas', 'nike', 'adidas', 'nike',\n",
              "       'nike', 'nike', 'nike', 'adidas', 'nike', 'nike', 'nike', 'nike',\n",
              "       'adidas', 'nike', 'nike', 'nike', 'adidas', 'adidas', 'nike',\n",
              "       'nike', 'adidas', 'nike', 'adidas', 'adidas', 'adidas', 'nike',\n",
              "       'nike', 'adidas', 'nike', 'adidas', 'nike', 'nike', 'nike',\n",
              "       'adidas', 'adidas', 'nike', 'nike', 'nike', 'adidas', 'nike',\n",
              "       'adidas', 'adidas', 'adidas', 'nike', 'adidas', 'adidas', 'nike',\n",
              "       'adidas', 'nike', 'nike', 'adidas', 'adidas', 'adidas', 'adidas',\n",
              "       'nike', 'adidas', 'adidas', 'adidas', 'nike', 'nike', 'adidas',\n",
              "       'adidas', 'adidas', 'nike', 'adidas', 'adidas', 'adidas', 'adidas',\n",
              "       'adidas', 'adidas', 'adidas', 'nike', 'nike', 'nike', 'adidas'],\n",
              "      dtype=object)"
            ]
          },
          "execution_count": 9,
          "metadata": {},
          "output_type": "execute_result"
        }
      ],
      "source": [
        "Y_pred"
      ]
    },
    {
      "cell_type": "code",
      "execution_count": 10,
      "metadata": {
        "colab": {
          "base_uri": "https://localhost:8080/",
          "height": 282
        },
        "id": "IuzSEqZnuYoL",
        "outputId": "4a0f5840-4faa-40b8-b918-37ac415e16c8"
      },
      "outputs": [
        {
          "data": {
            "text/plain": [
              "<Axes: >"
            ]
          },
          "execution_count": 10,
          "metadata": {},
          "output_type": "execute_result"
        },
        {
          "data": {
            "image/png": "[encoded data removed]",
            "text/plain": [
              "<Figure size 640x480 with 2 Axes>"
            ]
          },
          "metadata": {},
          "output_type": "display_data"
        }
      ],
      "source": [
        "cf_matrix = confusion_matrix(Y_test, Y_pred)\n",
        "sns.heatmap(cf_matrix, annot=True)"
      ]
    },
    {
      "cell_type": "code",
      "execution_count": 11,
      "metadata": {
        "colab": {
          "base_uri": "https://localhost:8080/"
        },
        "id": "jTeSDorCxJXJ",
        "outputId": "ce7ae31d-ef4f-4e93-d092-c87de2382b4a"
      },
      "outputs": [
        {
          "name": "stdout",
          "output_type": "stream",
          "text": [
            "Recall:  64.7 %\n",
            "Precision:  70.2 %\n",
            "F1-Score:  67.3 %\n",
            "Accuracy: 65.2 %\n"
          ]
        }
      ],
      "source": [
        "print(\"Recall: \",round(recall_score(Y_test, Y_pred, pos_label='adidas')*100,1), \"%\")\n",
        "print(\"Precision: \",round(precision_score(Y_test, Y_pred, pos_label='adidas')*100,1), \"%\")\n",
        "print(\"F1-Score: \",round(f1_score(Y_test, Y_pred, pos_label='adidas')*100,1), \"%\")\n",
        "print(\"Accuracy:\",round(metrics.accuracy_score(Y_test, Y_pred)*100,1), \"%\")"
      ]
    }
  ],
  "metadata": {
    "colab": {
      "name": "Akurasi-kNN-PCD-Training.ipynb",
      "provenance": []
    },
    "kernelspec": {
      "display_name": "Python 3",
      "name": "python3"
    },
    "language_info": {
      "codemirror_mode": {
        "name": "ipython",
        "version": 3
      },
      "file_extension": ".py",
      "mimetype": "text/x-python",
      "name": "python",
      "nbconvert_exporter": "python",
      "pygments_lexer": "ipython3",
      "version": "3.11.2"
    }
  },
  "nbformat": 4,
  "nbformat_minor": 0
}
